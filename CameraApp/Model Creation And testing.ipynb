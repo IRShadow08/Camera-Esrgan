{
 "cells": [
  {
   "cell_type": "code",
   "execution_count": 6,
   "id": "02bfaef3",
   "metadata": {},
   "outputs": [],
   "source": [
    "from deepface import DeepFace\n",
    "import os\n",
    "import joblib "
   ]
  },
  {
   "cell_type": "code",
   "execution_count": null,
   "id": "ad1fb516",
   "metadata": {},
   "outputs": [
    {
     "data": {
      "text/plain": [
       "['model3.joblib']"
      ]
     },
     "execution_count": 7,
     "metadata": {},
     "output_type": "execute_result"
    }
   ],
   "source": [
    "model = DeepFace.build_model(\"Facenet512\")\n",
    "\n",
    "embeddings_db = {}\n",
    "\n",
    "for person in os.listdir(\"Deepface Manual Train\"):\n",
    "    person_path = os.path.join(\"Deepface Manual Train\", person)\n",
    "    for img_file in os.listdir(person_path):\n",
    "        img_path = os.path.join(person_path, img_file)\n",
    "        embedding = DeepFace.represent(img_path=img_path, model_name=\"Facenet512\", enforce_detection=False)[0][\"embedding\"]\n",
    "        \n",
    "        if person not in embeddings_db:\n",
    "            embeddings_db[person] = []\n",
    "        embeddings_db[person].append(embedding)\n",
    "\n",
    "joblib.dump(embeddings_db, \"model4.joblib\")"
   ]
  },
  {
   "cell_type": "code",
   "execution_count": null,
   "id": "f3f727ba",
   "metadata": {},
   "outputs": [
    {
     "name": "stdout",
     "output_type": "stream",
     "text": [
      "Identified as: Biboy with distance: 0.0\n"
     ]
    }
   ],
   "source": [
    "embeddings_db = joblib.load(\"model3.joblib\")\n",
    "\n",
    "test_embedding = DeepFace.represent(img_path=\"\", model_name=\"Facenet512\")[0][\"embedding\"]\n",
    "\n",
    "from scipy.spatial.distance import cosine\n",
    "\n",
    "min_dist = float(\"inf\")\n",
    "identity = \"unknown\"\n",
    "\n",
    "for person, embeddings in embeddings_db.items():\n",
    "    for ref_embedding in embeddings:\n",
    "        dist = cosine(test_embedding, ref_embedding)\n",
    "        if dist < min_dist:\n",
    "            min_dist = dist\n",
    "            identity = person\n",
    "\n",
    "print(f\"Identified as: {identity} with distance: {min_dist}\")"
   ]
  }
 ],
 "metadata": {
  "kernelspec": {
   "display_name": "Python 3",
   "language": "python",
   "name": "python3"
  },
  "language_info": {
   "codemirror_mode": {
    "name": "ipython",
    "version": 3
   },
   "file_extension": ".py",
   "mimetype": "text/x-python",
   "name": "python",
   "nbconvert_exporter": "python",
   "pygments_lexer": "ipython3",
   "version": "3.11.9"
  }
 },
 "nbformat": 4,
 "nbformat_minor": 5
}
